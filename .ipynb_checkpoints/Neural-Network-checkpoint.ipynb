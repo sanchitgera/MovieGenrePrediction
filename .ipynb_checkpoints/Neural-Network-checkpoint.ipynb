{
 "cells": [
  {
   "cell_type": "markdown",
   "metadata": {},
   "source": [
    "## Neural Network"
   ]
  },
  {
   "cell_type": "code",
   "execution_count": 83,
   "metadata": {},
   "outputs": [],
   "source": [
    "import pandas as pd\n",
    "from sklearn.pipeline import Pipeline\n",
    "from sklearn.naive_bayes import MultinomialNB\n",
    "from sklearn.feature_extraction.text import TfidfTransformer\n",
    "from sklearn.feature_extraction.text import CountVectorizer\n",
    "from skmultilearn.problem_transform import BinaryRelevance\n",
    "from sklearn.naive_bayes import GaussianNB\n",
    "from sklearn.neighbors import KNeighborsClassifier\n",
    "from sklearn.metrics import accuracy_score\n",
    "from sklearn.metrics import precision_recall_fscore_support\n",
    "from sklearn.metrics import classification_report\n",
    "from sklearn.model_selection import train_test_split\n",
    "from nltk import word_tokenize     \n",
    "import nltk\n",
    "from nltk.stem.porter import PorterStemmer\n",
    "from nltk.stem import WordNetLemmatizer \n",
    "import numpy as np\n",
    "from sklearn.neural_network import MLPClassifier\n",
    "from sklearn.multioutput import ClassifierChain"
   ]
  },
  {
   "cell_type": "code",
   "execution_count": 84,
   "metadata": {},
   "outputs": [],
   "source": [
    "def load_data(subset = None):\n",
    "    data = pd.read_csv(\"./dataset_20000.csv\")\n",
    "    if subset is not None:\n",
    "        return data.head(subset)\n",
    "    return data"
   ]
  },
  {
   "cell_type": "code",
   "execution_count": 64,
   "metadata": {},
   "outputs": [],
   "source": [
    "def stem_tokens(tokens, stemmer):\n",
    "    stemmed = []\n",
    "    for item in tokens:\n",
    "        stemmed.append(stemmer.stem(item))\n",
    "    return stemmed"
   ]
  },
  {
   "cell_type": "code",
   "execution_count": 94,
   "metadata": {},
   "outputs": [],
   "source": [
    "dataset = load_data(subset = 5000)"
   ]
  },
  {
   "cell_type": "code",
   "execution_count": 95,
   "metadata": {},
   "outputs": [],
   "source": [
    "stemmer = PorterStemmer()"
   ]
  },
  {
   "cell_type": "code",
   "execution_count": 96,
   "metadata": {},
   "outputs": [],
   "source": [
    "class LemmaTokenizer(object):\n",
    "    def __init__(self):\n",
    "        self.wnl = WordNetLemmatizer()\n",
    "    def __call__(self, doc):\n",
    "        return [self.wnl.lemmatize(t) for t in word_tokenize(doc)]"
   ]
  },
  {
   "cell_type": "code",
   "execution_count": 97,
   "metadata": {},
   "outputs": [],
   "source": [
    "def tokenize(text):\n",
    "    tokens = nltk.word_tokenize(text)\n",
    "    stems = stem_tokens(tokens, stemmer)\n",
    "    return stems"
   ]
  },
  {
   "cell_type": "markdown",
   "metadata": {},
   "source": [
    "### Neural Network Classifiers"
   ]
  },
  {
   "cell_type": "code",
   "execution_count": null,
   "metadata": {},
   "outputs": [],
   "source": [
    "x = dataset['summary']\n",
    "y = dataset.drop([\"summary\"], axis=1)"
   ]
  },
  {
   "cell_type": "code",
   "execution_count": 137,
   "metadata": {},
   "outputs": [],
   "source": [
    "def build_model(hidden_layers, activatation='relu', early_stopping=False, use_tfidf=False):\n",
    "    cnt_vect = CountVectorizer(stop_words='english', tokenizer=tokenize)\n",
    "    tf_transform = TfidfTransformer()\n",
    "\n",
    "    transformed_x = cnt_vect.fit_transform(x)\n",
    "    \n",
    "    if use_tfidf:\n",
    "        transformed_x = tf_transform.fit(transformed_x)\n",
    "        \n",
    "    classifier = MLPClassifier(hidden_layer_sizes=hidden_layers, early_stopping=early_stopping, activation=activation,\n",
    "                               max_iter=1000)\n",
    "\n",
    "    x_train, x_test, y_train, y_test = train_test_split(transformed_x, y, test_size=0.2)\n",
    "\n",
    "    model = classifier.fit(x_train, y_train)\n",
    "    predictions = model.predict(x_test)\n",
    "    target_names = dataset.drop([\"summary\"], axis=1).columns.tolist()\n",
    "    return classification_report(y_test, predictions, target_names=target_names)"
   ]
  },
  {
   "cell_type": "code",
   "execution_count": 133,
   "metadata": {},
   "outputs": [
    {
     "name": "stdout",
     "output_type": "stream",
     "text": [
      "                 precision    recall  f1-score   support\n",
      "\n",
      "          Drama       0.62      0.56      0.59       413\n",
      "         Comedy       0.54      0.45      0.49       321\n",
      "       Thriller       0.65      0.43      0.52       180\n",
      "   Romance Film       0.57      0.27      0.37       171\n",
      "         Action       0.51      0.19      0.28       135\n",
      "         Horror       0.91      0.40      0.56       132\n",
      "  Crime Fiction       0.66      0.31      0.42       135\n",
      "      Adventure       0.62      0.22      0.33       104\n",
      "Science Fiction       0.73      0.30      0.43        63\n",
      "      Animation       0.78      0.12      0.21        59\n",
      "Romantic comedy       0.71      0.15      0.25        80\n",
      "        Mystery       0.40      0.08      0.13        77\n",
      " Crime Thriller       0.33      0.08      0.12        53\n",
      "        Fantasy       0.62      0.09      0.16        54\n",
      "\n",
      "    avg / total       0.62      0.35      0.43      1977\n",
      "\n"
     ]
    }
   ],
   "source": [
    "print(report)"
   ]
  },
  {
   "cell_type": "code",
   "execution_count": 134,
   "metadata": {},
   "outputs": [],
   "source": [
    "from sklearn.metrics import jaccard_similarity_score\n",
    "score = jaccard_similarity_score(y_test, predictions)\n",
    "print(score)"
   ]
  },
  {
   "cell_type": "code",
   "execution_count": null,
   "metadata": {},
   "outputs": [],
   "source": []
  }
 ],
 "metadata": {
  "kernelspec": {
   "display_name": "Python 3",
   "language": "python",
   "name": "python3"
  },
  "language_info": {
   "codemirror_mode": {
    "name": "ipython",
    "version": 3
   },
   "file_extension": ".py",
   "mimetype": "text/x-python",
   "name": "python",
   "nbconvert_exporter": "python",
   "pygments_lexer": "ipython3",
   "version": "3.5.2"
  }
 },
 "nbformat": 4,
 "nbformat_minor": 2
}
