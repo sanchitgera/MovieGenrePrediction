{
 "cells": [
  {
   "cell_type": "markdown",
   "metadata": {},
   "source": [
    "## Word Embeddings"
   ]
  },
  {
   "cell_type": "code",
   "execution_count": 55,
   "metadata": {},
   "outputs": [],
   "source": [
    "import pandas as pd\n",
    "from sklearn.pipeline import Pipeline\n",
    "from sklearn.naive_bayes import MultinomialNB\n",
    "from sklearn.feature_extraction.text import TfidfTransformer\n",
    "from sklearn.feature_extraction.text import CountVectorizer\n",
    "from skmultilearn.problem_transform import BinaryRelevance\n",
    "from sklearn.naive_bayes import GaussianNB\n",
    "from sklearn.neighbors import KNeighborsClassifier\n",
    "from sklearn.metrics import accuracy_score\n",
    "from sklearn.metrics import precision_recall_fscore_support\n",
    "from sklearn.metrics import classification_report\n",
    "from sklearn.model_selection import train_test_split\n",
    "from nltk import word_tokenize     \n",
    "import nltk\n",
    "from nltk.stem.porter import PorterStemmer\n",
    "from nltk.stem import WordNetLemmatizer \n",
    "from sklearn.multiclass import OneVsRestClassifier\n",
    "from sklearn.multiclass import OneVsRestClassifier\n",
    "import numpy as np\n",
    "from sklearn.linear_model import LogisticRegression\n",
    "from sklearn.svm import LinearSVC\n",
    "from nltk.corpus import stopwords\n",
    "from gensim.models import Word2Vec\n",
    "from sklearn.neural_network import MLPClassifier\n",
    "from gensim.models import KeyedVectors"
   ]
  },
  {
   "cell_type": "code",
   "execution_count": 56,
   "metadata": {},
   "outputs": [],
   "source": [
    "stop_words = set(stopwords.words('english'))"
   ]
  },
  {
   "cell_type": "code",
   "execution_count": 57,
   "metadata": {},
   "outputs": [],
   "source": [
    "def load_data(subset = None):\n",
    "    data = pd.read_csv(\"./dataset_20000.csv\")\n",
    "    if subset is not None:\n",
    "        return data.head(subset)\n",
    "    return data"
   ]
  },
  {
   "cell_type": "code",
   "execution_count": 58,
   "metadata": {},
   "outputs": [],
   "source": [
    "def stem_tokens(tokens, stemmer):\n",
    "    stemmed = []\n",
    "    for item in tokens:\n",
    "        stemmed.append(stemmer.stem(item))\n",
    "    return stemmed"
   ]
  },
  {
   "cell_type": "code",
   "execution_count": 59,
   "metadata": {},
   "outputs": [],
   "source": [
    "dataset = load_data(subset = 5000)"
   ]
  },
  {
   "cell_type": "code",
   "execution_count": 60,
   "metadata": {},
   "outputs": [],
   "source": [
    "stemmer = PorterStemmer()"
   ]
  },
  {
   "cell_type": "code",
   "execution_count": 61,
   "metadata": {},
   "outputs": [],
   "source": [
    "class LemmaTokenizer(object):\n",
    "    def __init__(self):\n",
    "        self.wnl = WordNetLemmatizer()\n",
    "    def __call__(self, doc):\n",
    "        return [self.wnl.lemmatize(t) for t in word_tokenize(doc)]"
   ]
  },
  {
   "cell_type": "code",
   "execution_count": 62,
   "metadata": {},
   "outputs": [],
   "source": [
    "def tokenize(text):\n",
    "    text = text.lower()\n",
    "    tokens = nltk.word_tokenize(text)\n",
    "    filtered = [word for word in tokens if word not in stop_words]\n",
    "    stems = stem_tokens(filtered, stemmer)\n",
    "    return stems"
   ]
  },
  {
   "cell_type": "code",
   "execution_count": 63,
   "metadata": {},
   "outputs": [],
   "source": [
    "x = dataset[\"summary\"]\n",
    "y = dataset.drop([\"summary\"], axis=1)"
   ]
  },
  {
   "cell_type": "code",
   "execution_count": 64,
   "metadata": {},
   "outputs": [],
   "source": [
    "def sent_vectorizer(sent):\n",
    "    sent_vec =[]\n",
    "    numw = 0\n",
    "    for w in sent:\n",
    "        try:\n",
    "            if numw == 0:\n",
    "                sent_vec = word_model[w]\n",
    "            else:\n",
    "                sent_vec = np.add(sent_vec, word_model[w])\n",
    "            numw+=1\n",
    "        except:\n",
    "            pass\n",
    "    \n",
    "    return np.asarray(sent_vec) / numw"
   ]
  },
  {
   "cell_type": "code",
   "execution_count": 65,
   "metadata": {},
   "outputs": [],
   "source": [
    "word_model = KeyedVectors.load_word2vec_format('/home/ubuntu/MovieGenrePrediction/embeddings.txt', binary=False)\n",
    "\n",
    "x_train, x_test, y_train, y_test = train_test_split(mapped, y, test_size=0.2)\n",
    "\n",
    "transformed_x_test = x_test.map(sent_vectorizer)\n",
    "\n",
    "transformed_x_train = x_train.map(sent_vectorizer)"
   ]
  },
  {
   "cell_type": "code",
   "execution_count": 66,
   "metadata": {},
   "outputs": [],
   "source": [
    "def build_model(estimator):\n",
    "    clf = OneVsRestClassifier(estimator=estimator)\n",
    "    model = clf.fit(extract_vector_array(transformed_x_train.values), y_train)\n",
    "    \n",
    "    predictions = model.predict(extract_vector_array(transformed_x_test.values))\n",
    "    report = classification_report(y_test, predictions)\n",
    "    return report"
   ]
  },
  {
   "cell_type": "code",
   "execution_count": 67,
   "metadata": {},
   "outputs": [],
   "source": [
    "def extract_vector_array(test):\n",
    "    arr = []\n",
    "    \n",
    "    for i, vector in enumerate(test):\n",
    "        arr.append([])\n",
    "        for j, elem in enumerate(vector):\n",
    "            arr[i].append(elem)\n",
    "            \n",
    "    return arr"
   ]
  },
  {
   "cell_type": "code",
   "execution_count": 68,
   "metadata": {},
   "outputs": [
    {
     "name": "stdout",
     "output_type": "stream",
     "text": [
      "             precision    recall  f1-score   support\n",
      "\n",
      "          0       0.66      0.59      0.62       430\n",
      "          1       0.59      0.31      0.41       325\n",
      "          2       0.56      0.15      0.23       189\n",
      "          3       0.47      0.09      0.15       157\n",
      "          4       0.70      0.17      0.27       135\n",
      "          5       0.64      0.15      0.24       124\n",
      "          6       0.49      0.15      0.23       124\n",
      "          7       0.55      0.07      0.12        85\n",
      "          8       0.81      0.20      0.33        83\n",
      "          9       0.68      0.22      0.33        69\n",
      "         10       0.33      0.01      0.02        79\n",
      "         11       0.00      0.00      0.00        73\n",
      "         12       0.67      0.04      0.08        50\n",
      "         13       0.00      0.00      0.00        48\n",
      "\n",
      "avg / total       0.56      0.25      0.32      1971\n",
      "\n"
     ]
    }
   ],
   "source": [
    "report = build_model(LogisticRegression())\n",
    "\n",
    "print(report)"
   ]
  },
  {
   "cell_type": "code",
   "execution_count": 69,
   "metadata": {},
   "outputs": [],
   "source": [
    "def build_neural_net(hidden_layers, activation='relu', early_stopping=False):\n",
    "    clf = MLPClassifier(hidden_layer_sizes=hidden_layers, early_stopping=early_stopping, activation=activation)\n",
    "    model = clf.fit(extract_vector_array(transformed_x_train.values), y_train)\n",
    "    \n",
    "    predictions = model.predict(extract_vector_array(transformed_x_test.values))\n",
    "    report = classification_report(y_test, predictions)\n",
    "    return report"
   ]
  },
  {
   "cell_type": "code",
   "execution_count": 70,
   "metadata": {},
   "outputs": [
    {
     "name": "stderr",
     "output_type": "stream",
     "text": [
      "/home/ubuntu/MovieGenrePrediction/env/lib/python3.5/site-packages/sklearn/metrics/classification.py:1135: UndefinedMetricWarning: Precision and F-score are ill-defined and being set to 0.0 in labels with no predicted samples.\n",
      "  'precision', 'predicted', average, warn_for)\n"
     ]
    }
   ],
   "source": [
    "report = build_neural_net(hidden_layers=(14,14), activation='relu', early_stopping=False)"
   ]
  },
  {
   "cell_type": "code",
   "execution_count": 71,
   "metadata": {},
   "outputs": [
    {
     "name": "stdout",
     "output_type": "stream",
     "text": [
      "             precision    recall  f1-score   support\n",
      "\n",
      "          0       0.63      0.63      0.63       430\n",
      "          1       0.63      0.35      0.45       325\n",
      "          2       0.53      0.33      0.41       189\n",
      "          3       0.49      0.18      0.26       157\n",
      "          4       0.57      0.27      0.36       135\n",
      "          5       0.62      0.40      0.49       124\n",
      "          6       0.54      0.26      0.35       124\n",
      "          7       0.61      0.16      0.26        85\n",
      "          8       0.60      0.33      0.42        83\n",
      "          9       0.73      0.32      0.44        69\n",
      "         10       0.53      0.10      0.17        79\n",
      "         11       0.00      0.00      0.00        73\n",
      "         12       0.00      0.00      0.00        50\n",
      "         13       0.50      0.02      0.04        48\n",
      "\n",
      "avg / total       0.55      0.34      0.40      1971\n",
      "\n"
     ]
    }
   ],
   "source": [
    "print(report)"
   ]
  },
  {
   "cell_type": "code",
   "execution_count": null,
   "metadata": {},
   "outputs": [],
   "source": []
  }
 ],
 "metadata": {
  "kernelspec": {
   "display_name": "Python 3",
   "language": "python",
   "name": "python3"
  },
  "language_info": {
   "codemirror_mode": {
    "name": "ipython",
    "version": 3
   },
   "file_extension": ".py",
   "mimetype": "text/x-python",
   "name": "python",
   "nbconvert_exporter": "python",
   "pygments_lexer": "ipython3",
   "version": "3.5.2"
  }
 },
 "nbformat": 4,
 "nbformat_minor": 2
}
