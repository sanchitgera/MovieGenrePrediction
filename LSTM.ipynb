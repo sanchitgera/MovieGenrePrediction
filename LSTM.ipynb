{
 "cells": [
  {
   "cell_type": "code",
   "execution_count": 1,
   "metadata": {},
   "outputs": [
    {
     "name": "stderr",
     "output_type": "stream",
     "text": [
      "Using TensorFlow backend.\n"
     ]
    }
   ],
   "source": [
    "import pandas as pd\n",
    "import csv\n",
    "from sklearn.pipeline import Pipeline\n",
    "from sklearn.naive_bayes import MultinomialNB\n",
    "from sklearn.feature_extraction.text import TfidfTransformer\n",
    "from sklearn.feature_extraction.text import CountVectorizer\n",
    "from skmultilearn.problem_transform import BinaryRelevance\n",
    "from sklearn.naive_bayes import GaussianNB\n",
    "from sklearn.neighbors import KNeighborsClassifier\n",
    "from sklearn.metrics import accuracy_score\n",
    "from sklearn.metrics import precision_recall_fscore_support\n",
    "from sklearn.metrics import classification_report\n",
    "from sklearn.model_selection import train_test_split\n",
    "from nltk import word_tokenize     \n",
    "import nltk\n",
    "from nltk.stem.porter import PorterStemmer\n",
    "from nltk.stem import WordNetLemmatizer \n",
    "from sklearn.multiclass import OneVsRestClassifier\n",
    "from sklearn.multiclass import OneVsRestClassifier\n",
    "import numpy as np\n",
    "from sklearn.linear_model import LogisticRegression\n",
    "from sklearn.svm import LinearSVC\n",
    "from nltk.corpus import stopwords\n",
    "from gensim.models import Word2Vec\n",
    "from sklearn.neural_network import MLPClassifier\n",
    "from gensim.models import KeyedVectors\n",
    "from keras.preprocessing.text import Tokenizer\n",
    "from keras.preprocessing.sequence import pad_sequences\n",
    "from sklearn.metrics import confusion_matrix, f1_score\n",
    "import matplotlib.pyplot as plt\n",
    "import keras.backend\n",
    "from keras.layers import Dropout\n",
    "from keras.callbacks import Callback\n",
    "from sklearn.metrics import confusion_matrix, jaccard_similarity_score, accuracy_score, \\\n",
    "\t\tf1_score, precision_score, recall_score"
   ]
  },
  {
   "cell_type": "code",
   "execution_count": 2,
   "metadata": {},
   "outputs": [],
   "source": [
    "class Metrics(Callback):\n",
    "\tdef __init__(self, x_test, y_test):\n",
    "\t\tself.x_test = x_test\n",
    "\t\tself.y_test = y_test\n",
    "\n",
    "\tdef on_train_begin(self, logs={}):\n",
    "\t\tself.val_f1s = []\n",
    "\t\tself.val_recalls = []\n",
    "\t\tself.val_precisions = []\n",
    "\t\tself.val_accuracies = []\n",
    "\t\tself.val_jaccards = []\n",
    "\t \n",
    "\tdef on_epoch_end(self, epoch, logs={}):\n",
    "\t\tval_predict = (np.asarray(self.model.predict(self.x_test)))\n",
    "\n",
    "\t\tprint(val_predict)\n",
    "\n",
    "\t\tval_predict[val_predict >= 0.5] = 1\n",
    "\t\tval_predict[val_predict < 0.5] = 0\n",
    "\t\tprint(self.y_test.columns)\n",
    "\t\tprint(\"*****\")\n",
    "\t\tprint(val_predict)\n",
    "\t\tprint(\"*****\")\n",
    "\t\tprint(self.y_test.values)\n",
    "\t\tprint(\"*****\")\n",
    "\t\t_val_f1 = f1_score(self.y_test.values, val_predict, average='weighted')\n",
    "\t\t_val_recall = recall_score(self.y_test.values, val_predict, average='weighted')\n",
    "\t\t_val_precision = precision_score(self.y_test.values, val_predict, average='weighted')\n",
    "\t\t_val_accuracy = accuracy_score(self.y_test.values, val_predict)\n",
    "\t\t_val_jaccard = jaccard_similarity_score(self.y_test.values, val_predict)\n",
    "\n",
    "\t\tself.val_f1s.append(_val_f1)\n",
    "\t\tself.val_recalls.append(_val_recall)\n",
    "\t\tself.val_precisions.append(_val_precision)\n",
    "\t\tself.val_accuracies.append(_val_accuracy)\n",
    "\t\tself.val_jaccards.append(_val_jaccard)\n",
    "\n",
    "\t\tprint(\"— val_f1: {} — val_precision: {} — val_recall {} — val_accuracy: {} — val_jaccard {}\" \\\n",
    "\t\t\t\t.format(_val_f1, _val_precision, _val_recall, _val_accuracy, _val_jaccard))\n",
    "\n",
    "\t\treturn"
   ]
  },
  {
   "cell_type": "code",
   "execution_count": 9,
   "metadata": {},
   "outputs": [],
   "source": [
    "def load_data(subset = None):\n",
    "    data = pd.read_csv(\"./dataset_20000.csv\")\n",
    "    if subset is not None:\n",
    "        return data.head(subset)\n",
    "    return data"
   ]
  },
  {
   "cell_type": "code",
   "execution_count": 14,
   "metadata": {},
   "outputs": [],
   "source": [
    "def build_rnn(num_words, input_length):\n",
    "\tfrom keras.models import Sequential\n",
    "\tfrom kehttp://localhost:8888/notebooks/Untitled.ipynb?kernel_name=python3#ras.layers import Dense\n",
    "\tfrom keras.layers import LSTM\n",
    "\tfrom keras.layers.embeddings import Embedding\n",
    "\tfrom keras.preprocessing import sequence\n",
    "\n",
    "\tnp.random.seed(7)\n",
    "\n",
    "\tembed_dim = 128\n",
    "\tlstm_out = 600\n",
    "\n",
    "\tmodel = Sequential()\n",
    "\tmodel.add(Embedding(num_words, embed_dim, input_length=input_length))\n",
    "\tmodel.add(Dropout(0.2))\n",
    "\tmodel.add(LSTM(lstm_out, dropout=0.2, recurrent_dropout=0.2))\n",
    "\tmodel.add(Dense(14, activation='sigmoid'))\n",
    "\tmodel.compile(loss='binary_crossentropy', optimizer='adam', metrics=['accuracy'])\n",
    "\treturn model"
   ]
  },
  {
   "cell_type": "code",
   "execution_count": 15,
   "metadata": {},
   "outputs": [],
   "source": [
    "word_dict = set()\n",
    "def remove_stopwords(sent):\n",
    "\ttokens = nltk.word_tokenize(sent)\n",
    "\tnew_sent = []\n",
    "\n",
    "\tfor token in tokens:\n",
    "\t\tword = token.lower()\n",
    "\t\tif word not in stop_words and len(token) > 2:\n",
    "\t\t\tif word not in word_dict:\n",
    "\t\t\t\tword_dict.add(word)\n",
    "\n",
    "\t\t\tnew_sent.append(word)\n",
    "\n",
    "\treturn new_sent"
   ]
  },
  {
   "cell_type": "code",
   "execution_count": 16,
   "metadata": {},
   "outputs": [],
   "source": [
    "stop_words = set(stopwords.words('english'))"
   ]
  },
  {
   "cell_type": "code",
   "execution_count": 17,
   "metadata": {},
   "outputs": [],
   "source": [
    "dataset = load_data(subset = 5000)\n",
    "x = dataset[\"summary\"]\n",
    "y = dataset.drop([\"summary\"], axis=1)"
   ]
  },
  {
   "cell_type": "code",
   "execution_count": 24,
   "metadata": {},
   "outputs": [],
   "source": [
    "X = [remove_stopwords(sent) for sent in x.values]\n",
    "tokenizer = Tokenizer(filters='\"#$%&()*+,-./:;<=>?@[\\]^_`{|}~ ')\n",
    "tokenizer.fit_on_texts(X)\n",
    "X = tokenizer.texts_to_sequences(X)\n",
    "# X = tokenizer.sequences_to_matrix(X, mode='tfidf')\n",
    "X = pad_sequences(X, padding='post')"
   ]
  },
  {
   "cell_type": "code",
   "execution_count": 25,
   "metadata": {},
   "outputs": [
    {
     "name": "stdout",
     "output_type": "stream",
     "text": [
      "[[12408  4164    51 ...     0     0     0]\n",
      " [  290    69   118 ...     0     0     0]\n",
      " [    6   289  8644 ...     0     0     0]\n",
      " ...\n",
      " [11245  7210    25 ...     0     0     0]\n",
      " [ 1439  3636   113 ...     0     0     0]\n",
      " [10956  2286    76 ...     0     0     0]]\n"
     ]
    }
   ],
   "source": [
    "X_train, X_test, Y_train, Y_test = train_test_split(X, y, test_size=0.2)\n",
    "print(X_train)"
   ]
  },
  {
   "cell_type": "code",
   "execution_count": 26,
   "metadata": {},
   "outputs": [],
   "source": [
    "metrics = Metrics(X_test, Y_test)\n",
    "model = build_rnn(len(word_dict) + 1, X.shape[1])"
   ]
  },
  {
   "cell_type": "code",
   "execution_count": null,
   "metadata": {},
   "outputs": [
    {
     "name": "stdout",
     "output_type": "stream",
     "text": [
      "Epoch 1/10\n"
     ]
    }
   ],
   "source": [
    "h = model.fit(X_train, Y_train, batch_size=32, epochs=10, verbose=5, callbacks=[metrics])"
   ]
  },
  {
   "cell_type": "code",
   "execution_count": null,
   "metadata": {},
   "outputs": [],
   "source": [
    "plt.plot(h.history['acc'])\n",
    "\n",
    "print(model.summary())\n",
    "\n",
    "score, acc = model.evaluate(X_test, Y_test, verbose=2, batch_size= 32)\n",
    "\n",
    "print(score)\n",
    "print(acc)"
   ]
  }
 ],
 "metadata": {
  "kernelspec": {
   "display_name": "Python 3",
   "language": "python",
   "name": "python3"
  },
  "language_info": {
   "codemirror_mode": {
    "name": "ipython",
    "version": 3
   },
   "file_extension": ".py",
   "mimetype": "text/x-python",
   "name": "python",
   "nbconvert_exporter": "python",
   "pygments_lexer": "ipython3",
   "version": "3.6.4"
  }
 },
 "nbformat": 4,
 "nbformat_minor": 2
}
